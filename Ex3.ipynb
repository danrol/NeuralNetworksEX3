{
 "cells": [
  {
   "cell_type": "code",
   "execution_count": 23,
   "metadata": {},
   "outputs": [
    {
     "name": "stdout",
     "output_type": "stream",
     "text": [
      "Extracting MNIST_DATA\\train-images-idx3-ubyte.gz\n",
      "Extracting MNIST_DATA\\train-labels-idx1-ubyte.gz\n",
      "Extracting MNIST_DATA\\t10k-images-idx3-ubyte.gz\n",
      "Extracting MNIST_DATA\\t10k-labels-idx1-ubyte.gz\n"
     ]
    }
   ],
   "source": [
    "import logging\n",
    "import random\n",
    "from datetime import timedelta\n",
    "from timeit import default_timer as timer\n",
    "import matplotlib.pyplot as plt\n",
    "import numpy as np\n",
    "import tensorflow as tf\n",
    "from sklearn.metrics import accuracy_score\n",
    "from sklearn.metrics import f1_score\n",
    "from sklearn.metrics import precision_score\n",
    "from sklearn.metrics import recall_score\n",
    "from tensorflow.examples.tutorials.mnist import input_data\n",
    "\n",
    "mnist = input_data.read_data_sets(\"MNIST_DATA\", one_hot=True)\n"
   ]
  },
  {
   "cell_type": "code",
   "execution_count": 24,
   "metadata": {},
   "outputs": [],
   "source": [
    "def sort_by_fscore(networks):\n",
    "    for i in range(len(networks)):\n",
    "        for j in range(len(networks) - 1):\n",
    "            if networks[j].fscore[2] < networks[j + 1].fscore[2]:\n",
    "                networks[j], networks[j + 1] = networks[j + 1], networks[j]\n",
    "\n",
    "\n",
    "def weight_variable(shape):\n",
    "    initial = tf.random.truncated_normal(shape=shape, stddev=0.1)\n",
    "    return tf.Variable(initial)\n",
    "\n",
    "\n",
    "def bias_variable(shape):\n",
    "    initial = tf.constant(0.1, shape=shape, dtype=None, name=\"Const\")\n",
    "    return tf.Variable(initial)\n",
    "\n",
    "\n",
    "def conv2d(x, w, padding='SAME'):\n",
    "    return tf.nn.conv2d(x, w, strides=[1, 1, 1, 1], padding=padding)\n",
    "\n",
    "\n",
    "def max_pooling_2x2(x, padding='SAME'):\n",
    "    return tf.nn.max_pool2d(x, ksize=[1, 2, 2, 1], strides=[1, 2, 2, 1], padding=padding)"
   ]
  },
  {
   "cell_type": "code",
   "execution_count": 25,
   "metadata": {},
   "outputs": [],
   "source": [
    "\n",
    "class Network:\n",
    "    # scores for data will be kept in the following order:\n",
    "    # fscore, accuracy, recall, precision = ['train', 'validation', 'test']\n",
    "    class DataType:\n",
    "        Names = [\"TRAIN\", \"VALIDATION\", \"TEST\"]\n",
    "        TRAIN = 0\n",
    "        VALIDATION = 1\n",
    "        TEST = 2\n",
    "\n",
    "    def __init__(self, session, network_type, batch_size=100, num_iterations=13000, keep_probability_value=0.5):\n",
    "        \"\"\"\n",
    "        :type session: tensorflow session object\n",
    "        :type network_type: network creator function pointer\n",
    "        \"\"\"\n",
    "        self.fscore = [0, 0, 0]\n",
    "        self.accuracy = [0, 0, 0]\n",
    "        self.recall = [0, 0, 0]\n",
    "        self.precision = [0, 0, 0]\n",
    "        self.keep_probability_value = keep_probability_value\n",
    "        self.x_placeholder = None\n",
    "        self.z_variables = None\n",
    "        self.keep_prob_placeholder = None\n",
    "        self.target_placeholder = None\n",
    "        self.session = session\n",
    "        self.batch_size = batch_size\n",
    "        self.num_iterations = num_iterations\n",
    "        self.net_type = network_type\n",
    "        self.net = None\n",
    "        self.train_time = timedelta(seconds=0)\n",
    "        self.num_weights_in_net = None\n",
    "        self.net_parameters = None\n",
    "        self.is_conv_net = False\n",
    "\n",
    "    def run(self):\n",
    "        self.build_train()\n",
    "        self.test_all_scores()\n",
    "\n",
    "    def build_train(self):\n",
    "        self.net = self.net_type()  # create network\n",
    "\n",
    "        self.x_placeholder = self.net[0]\n",
    "        self.z_variables = self.net[1]\n",
    "        self.keep_prob_placeholder = self.net[2]\n",
    "        self.target_placeholder = self.net[3]\n",
    "\n",
    "        self.net_parameters = self.net[4]\n",
    "\n",
    "        self.num_weights_in_net = self.net_parameters[4]\n",
    "        if self.keep_prob_placeholder is not None:\n",
    "            self.is_conv_net = True\n",
    "\n",
    "        self.train_network()\n",
    "        logging.info(str(self))\n",
    "\n",
    "    def score(self, y_values, t_values, data_type_enum, printlog=False):\n",
    "        y_val, t_val = np.argmax(y_values, 1), np.argmax(t_values, 1)\n",
    "\n",
    "        self.accuracy[data_type_enum] = accuracy_score(t_val, y_val)\n",
    "\n",
    "        self.fscore[data_type_enum] = f1_score(t_val, y_val, average=\"macro\")\n",
    "\n",
    "        # self.precision[data_type_enum] = precision_score(t_val, y_val, average=\"macro\")\n",
    "        self.precision[data_type_enum] = precision_score(t_val, y_val, average=\"macro\", zero_division=0)\n",
    "\n",
    "        # self.recall[data_type_enum] = recall_score(t_val, y_val, average=\"macro\")\n",
    "        self.recall[data_type_enum] = recall_score(t_val, y_val, average=\"macro\", zero_division=0)\n",
    "        if printlog:\n",
    "            logging.info(self.scores_str(data_type_enum))\n",
    "\n",
    "    def test_all_scores(self):\n",
    "        logging.debug(\"test_all_scores begin\")\n",
    "\n",
    "        y_values, t_values = self.predict(data=mnist.train, use_batch=True)\n",
    "        self.score(y_values, t_values, Network.DataType.TRAIN)\n",
    "\n",
    "        y_values, t_values = self.predict(data=mnist.validation, use_batch=True)\n",
    "        self.score(y_values, t_values, Network.DataType.VALIDATION)\n",
    "\n",
    "        y_values, t_values = self.predict(data=mnist.test, use_batch=True)\n",
    "        self.score(y_values, t_values, Network.DataType.TEST)\n",
    "        logging.debug(\"test_all_scores end\")\n",
    "\n",
    "    def predict(self, data, use_batch=False):\n",
    "        if use_batch:\n",
    "            batch_x, batch_t = data.next_batch(self.batch_size)\n",
    "        else:\n",
    "            batch_x, batch_t = data.images, data.labels  # use whole database\n",
    "\n",
    "        if self.keep_prob_placeholder is None:  # check if conv net or not\n",
    "            y = self.session.run(self.net[1], feed_dict={self.x_placeholder: batch_x})\n",
    "        else:\n",
    "            y = self.session.run(self.net[1], feed_dict={self.x_placeholder: batch_x, self.keep_prob_placeholder: 1})\n",
    "        return y, batch_t\n",
    "\n",
    "    def scores_str(self, data_type_enum=None):\n",
    "        s = \"\"\n",
    "        if data_type_enum is not None:\n",
    "            if data_type_enum == Network.DataType.TRAIN:\n",
    "                s = s + \"\\n\"\n",
    "            s = s + \" - \" + Network.DataType.Names[data_type_enum] + \": \"\n",
    "            s = s + \"Network Scores\\n\\tAccuracy: \" + str(self.accuracy[data_type_enum]) + \" Fscore: \" + str(self.fscore[data_type_enum]) + \"\\n\\tPrecision: \" + str(self.precision[\n",
    "                                                                                                                                                                       data_type_enum]) \\\n",
    "                + \" recall: \" + str(self.recall[data_type_enum]) + \"\\n\"\n",
    "        else:\n",
    "            s = self.scores_str(Network.DataType.TRAIN)\n",
    "            s = s + (self.scores_str(Network.DataType.VALIDATION))\n",
    "            s = s + (self.scores_str(Network.DataType.TEST))\n",
    "        return s\n",
    "\n",
    "    def __str__(self):\n",
    "        s = \"Batch_size=\" + str(self.batch_size) + \" Num training iterations=\" + str(self.num_iterations) + \" dropout_rate=\" + str(self.keep_probability_value)\n",
    "        s = s + \"\\n\\t\\tTraining time is : \" + str(self.train_time)\n",
    "        s = s + \"\\n\\t\\tNumber of weights in net is : \" + str(self.num_weights_in_net)\n",
    "        return s\n",
    "\n",
    "    def predict_image_value(self, image):\n",
    "        z = self.session.run([self.z_variables], {self.x_placeholder: [image], self.keep_prob_placeholder: 1})\n",
    "        return np.argmax(z[0], 1)[0]\n",
    "\n",
    "    def visualize(self, image, layer_num, channel_num, before_activation=False):\n",
    "        if layer_num != 0 and layer_num < 3 and self.is_conv_net:\n",
    "            conv_layer = self.net[layer_num + 4]\n",
    "            if before_activation:\n",
    "                the_layer = conv_layer[0]\n",
    "            else:\n",
    "                the_layer = conv_layer[1]\n",
    "            z, layer = self.session.run([self.z_variables, the_layer], {self.x_placeholder: [image], self.keep_prob_placeholder: 1})\n",
    "            prediction = np.argmax(z, 1)\n",
    "            logging.info(\"Printing layer number \" + str(layer_num) + \" channel number: \" + str(channel_num) + \" for predicted value \" + str(prediction) + ( \"before relu \" if before_activation else \" after relu\"))\n",
    "            num_filters = conv_layer[4]\n",
    "            x_size = conv_layer[2]\n",
    "            y_size = conv_layer[3]\n",
    "            first_image = np.transpose(np.array(layer[0], dtype='float').reshape((x_size * y_size, num_filters)))  # 28x28, filter size\n",
    "            # change this according to picture size and filter size in layer\n",
    "            pixels = first_image[channel_num].reshape((x_size, y_size))\n",
    "\n",
    "        else:  # print the input\n",
    "            if self.is_conv_net is True:\n",
    "                logging.info(\"Invalid input, printing the image as is\")\n",
    "            elif self.is_conv_net is False and layer_num != 0:\n",
    "                 logging.info("Not a convolution network, printing input")\n",
    "            else:\n",
    "                logging.info(\"Printing layer 0 which is the input\")\n",
    "            first_image = np.array(image, dtype='float')  # 28x28, filter size\n",
    "            x_size = self.net_parameters[0]\n",
    "            y_size = self.net_parameters[1]\n",
    "            pixels = first_image.reshape((x_size, y_size))\n",
    "\n",
    "        plt.imshow(pixels, cmap='gray')\n",
    "        plt.show()\n",
    "\n",
    "    def train_network(self):\n",
    "        iteration_number_for_target_accuracy = None\n",
    "        cross_entropy = tf.reduce_mean(tf.nn.softmax_cross_entropy_with_logits_v2(labels=self.target_placeholder, logits=self.z_variables))\n",
    "        train_step = tf.compat.v1.train.AdamOptimizer(name=\"Adam\").minimize(cross_entropy)\n",
    "        tf.compat.v1.global_variables_initializer().run()\n",
    "        t1 = timer()\n",
    "\n",
    "        for _ in range(self.num_iterations):\n",
    "            batch_xsx, batch_ts = mnist.train.next_batch(batch_size=self.batch_size)\n",
    "            if self.keep_prob_placeholder is None:\n",
    "                ts, ce = self.session.run([train_step, cross_entropy], feed_dict={self.x_placeholder: batch_xsx, self.target_placeholder: batch_ts})\n",
    "            else:\n",
    "                ts, ce = self.session.run([train_step, cross_entropy],\n",
    "                                          feed_dict={self.x_placeholder: batch_xsx, self.target_placeholder: batch_ts, self.keep_prob_placeholder: self.keep_probability_value})\n",
    "\n",
    "            if iteration_number_for_target_accuracy is None:\n",
    "                y_values, t_values = self.predict(data=mnist.validation, use_batch=True)\n",
    "                self.score(y_values, t_values, Network.DataType.VALIDATION)\n",
    "                if self.accuracy[Network.DataType.VALIDATION] >= 0.99:\n",
    "                    iteration_number_for_target_accuracy = _\n",
    "                    t3 = timer()\n",
    "                    \n",
    "        if iteration_number_for_target_accuracy is not None:\n",
    "            logging.info(\"Reached 99% accuracy within \" + str(iteration_number_for_target_accuracy) + \" iterations and \" + str(timedelta(seconds=t3 - t1)))\n",
    "        t2 = timer()\n",
    "        self.train_time = timedelta(seconds=t2 - t1)\n",
    "        logging.info(\"Training time is : \" + str(self.train_time))\n"
   ]
  },
  {
   "cell_type": "code",
   "execution_count": 26,
   "metadata": {},
   "outputs": [],
   "source": [
    "\n",
    "def logistic_regression_with_layer(x_input_size=28, y_input_size=28, n_output=10, n_hidden1=200, n_hidden2=200):\n",
    "    logging.info(\"***********LOGISTIC REGRESSION WITH LAYER***********\")\n",
    "    logging.info(\"Layer 1 size = \" + str(n_hidden1) + \" Layer 2 size = \" + str(n_hidden2))\n",
    "    n_input = x_input_size * y_input_size\n",
    "    seed = tf.compat.v1.set_random_seed(random.randint(1, 1000))\n",
    "    x = tf.compat.v1.placeholder(tf.float32, [None, n_input], name=\"Inputs\")\n",
    "    t = tf.compat.v1.placeholder(tf.float32, [None, n_output], name=\"Targets\")\n",
    "    h1 = tf.Variable(tf.random.uniform([n_input, n_hidden1], -1, 1, seed=seed), name=\"h1\")\n",
    "    b1 = tf.Variable(tf.random.uniform([1, n_hidden1], -1, 1, seed=seed), name=\"b1\")\n",
    "    h2 = tf.Variable(tf.random.uniform([n_hidden1, n_hidden2], -1, 1, seed=seed), name=\"h2\")\n",
    "    b2 = tf.Variable(tf.random.uniform([1, n_hidden2], -1, 1, seed=seed), name=\"b2\")\n",
    "    w = tf.Variable(tf.random.uniform([n_hidden2, n_output], -1, 1, seed=seed), name=\"Out_layer_w\")\n",
    "    b = tf.Variable(tf.random.uniform([1, n_output], -1, 1, seed=seed), name=\"Out_biases\")\n",
    "\n",
    "    h1_s = tf.add(tf.matmul(x, h1), b1)\n",
    "    h1_s_rel = tf.nn.relu(h1_s)\n",
    "    h2_s = tf.add(tf.matmul(h1_s_rel, h2), b2)\n",
    "    h2_s_rel = tf.nn.relu(h2_s)\n",
    "    z = tf.add(tf.matmul(h2_s_rel, w), b)\n",
    "    num_weights_in_net = n_input * n_hidden1 + n_hidden1 + n_hidden1 * n_hidden2 + n_hidden2 + n_hidden2 * n_output + n_output\n",
    "    net_parameters = [x_input_size, y_input_size, n_output, [n_hidden1, n_hidden2], num_weights_in_net]\n",
    "    return [x, z, None, t, net_parameters, h1_s, h1_s_rel, h2_s, h2_s_rel]\n"
   ]
  },
  {
   "cell_type": "code",
   "execution_count": 27,
   "metadata": {},
   "outputs": [],
   "source": [
    "def logistic_regression(x_input_size=28, y_input_size=28, n_output=10):\n",
    "    n_input = x_input_size * y_input_size\n",
    "    num_weights_in_net = n_input * n_output + n_output\n",
    "    logging.info(\"***********LOGISTIC REGRESSION***********\")\n",
    "    logging.info(\"input size = \" + str(n_input) + \" output size = \" + str(n_output))\n",
    "    seed = tf.compat.v1.set_random_seed(random.randint(1, 1000))\n",
    "    x = tf.compat.v1.placeholder(tf.float32, [None, n_input], name=\"Inputs\")\n",
    "    t = tf.compat.v1.placeholder(tf.float32, [None, n_output], name=\"Targets\")\n",
    "    w = tf.Variable(tf.random.uniform([n_input, n_output], -1, 1, seed=seed), name=\"Out_layer_w\")\n",
    "    b = tf.Variable(tf.random.uniform([n_output], -1, 1, seed=seed), name=\"Out_biases\")\n",
    "    z = tf.add(tf.matmul(x, w), b)\n",
    "\n",
    "    net_parameters = [x_input_size, y_input_size, n_output, [], num_weights_in_net]\n",
    "    return [x, z, None, t, net_parameters]"
   ]
  },
  {
   "cell_type": "code",
   "execution_count": 28,
   "metadata": {},
   "outputs": [],
   "source": [
    "def logistic_regression_conv_layers(x_input_size=28, y_input_size=28, n_output=10, num_filters1=32, num_filters2=64, drop_rate_percent=0.5, x_filter_size=5,\n",
    "                                    y_filter_size=5, dimension_size=1, hidden_layer_size=1024):\n",
    "    logging.info(\"***********LOGISTIC REGRESSION WITH CONVOLUTION***********\")\n",
    "    x_size_after_pool1 = int(x_input_size / 2)\n",
    "    y_size_after_pool1 = int(y_input_size / 2)\n",
    "    x_size_after_pool2 = int(x_input_size / 4)\n",
    "    y_size_after_pool2 = int(y_input_size / 4)\n",
    "    # first activation map\n",
    "    # input size = N = 786\n",
    "    # stride = S = 1\n",
    "    # padding = P = 8\n",
    "    # filter size = F = 25\n",
    "    # num weights = (N+2P-F)/S+1\n",
    "    num_weights_in_net = (((x_input_size*y_input_size + 2*8 - x_filter_size*y_filter_size)/1) + 1)*num_filters1\n",
    "    num_weights_in_net += (((x_size_after_pool1*y_size_after_pool1 + 2*2 - x_filter_size*y_filter_size)/1) + 1)*num_filters2\n",
    "    num_weights_in_net += x_size_after_pool2*y_size_after_pool2*num_filters2*hidden_layer_size + hidden_layer_size\n",
    "    num_weights_in_net += hidden_layer_size*n_output + n_output\n",
    "    \n",
    "    x = tf.compat.v1.placeholder(tf.float32, [None, x_input_size * y_input_size])\n",
    "    t = tf.compat.v1.placeholder(tf.float32, [None, n_output], name=\"Targets\")\n",
    "    w_conv1 = weight_variable([x_filter_size, y_filter_size, dimension_size, num_filters1])  # 32 filters of 5x5x1 (x axis, y axis, dimension (greyscale is 1))\n",
    "    b_conv1 = bias_variable([num_filters1])\n",
    "\n",
    "    w_conv2 = weight_variable([x_filter_size, y_filter_size, num_filters1, num_filters2])\n",
    "    b_conv2 = bias_variable([num_filters2])\n",
    "\n",
    "    x_image = tf.reshape(x, [-1, x_input_size, y_input_size, 1])\n",
    "    h_conv1 = conv2d(x_image, w_conv1) + b_conv1\n",
    "    h_conv1_relu = tf.nn.relu(h_conv1)\n",
    "    h_pool1 = max_pooling_2x2(h_conv1_relu)\n",
    "    h_conv2 = conv2d(h_pool1, w_conv2) + b_conv2\n",
    "    h_conv2_relu = tf.nn.relu(h_conv2)\n",
    "    h_pool2 = max_pooling_2x2(h_conv2_relu)\n",
    "\n",
    "    # Fully connected layer 1024\n",
    "    w_fc1 = weight_variable([x_size_after_pool2 * y_size_after_pool2 * num_filters2, hidden_layer_size])\n",
    "    b_fc1 = bias_variable([hidden_layer_size])\n",
    "\n",
    "    h_pool2_flat = tf.reshape(h_pool2, [-1, x_size_after_pool2 * y_size_after_pool2 * num_filters2])\n",
    "    h_fc1 = tf.nn.relu(tf.matmul(h_pool2_flat, w_fc1) + b_fc1)\n",
    "\n",
    "    keep_prob = tf.compat.v1.placeholder(tf.float32)\n",
    "    rate = 1 - keep_prob\n",
    "    h_fc1_drop = tf.nn.dropout(h_fc1, rate=rate)\n",
    "\n",
    "    w_fc2 = weight_variable([hidden_layer_size, n_output])\n",
    "    b_fc2 = bias_variable([n_output])\n",
    "    y_conv = tf.matmul(h_fc1_drop, w_fc2) + b_fc2\n",
    "\n",
    "    tf.compat.v1.global_variables_initializer().run()\n",
    "    #   [x_size, y_size, output_size, ['hidden layer size'...], num_weights_in_net]\n",
    "    net_parameters = [x_input_size, y_input_size, n_output, [hidden_layer_size], num_weights_in_net]\n",
    "    return [x, y_conv, keep_prob, t, net_parameters, [h_conv1, h_conv1_relu, x_input_size, y_input_size, num_filters1],\n",
    "            [h_conv2, h_conv2_relu, x_size_after_pool1, y_size_after_pool1, num_filters2]]\n"
   ]
  },
  {
   "cell_type": "code",
   "execution_count": 29,
   "metadata": {},
   "outputs": [],
   "source": [
    "def create_networks(session):\n",
    "    networks = []\n",
    "    # the following for loops set the network type and other parameters\n",
    "    for batch_size in [50, 100]:\n",
    "        for train_range in [13000]:\n",
    "            net = Network(session=session, network_type=logistic_regression, batch_size=batch_size, num_iterations=train_range)\n",
    "            networks.append(net)\n",
    "            net = Network(session=session, network_type=logistic_regression_with_layer, batch_size=batch_size, num_iterations=train_range)\n",
    "            networks.append(net)\n",
    "            for dropout in [0.5]:\n",
    "                net = Network(session=session, network_type=logistic_regression_conv_layers, batch_size=batch_size, num_iterations=train_range, keep_probability_value=dropout)\n",
    "                networks.append(net)\n",
    "    return networks"
   ]
  },
  {
   "cell_type": "code",
   "execution_count": 30,
   "metadata": {},
   "outputs": [
    {
     "name": "stderr",
     "output_type": "stream",
     "text": [
      "INFO:root:No GPU found\n",
      "INFO:root:***********LOGISTIC REGRESSION***********\n",
      "INFO:root:input size = 784 output size = 10\n",
      "INFO:root:Training time is : 0:00:04.210317\n",
      "INFO:root:Batch_size=50 Num training iterations=300 dropout_rate=0.5\n",
      "\t\tTraining time is : 0:00:04.210317\n",
      "\t\tNumber of weights in net is : 7850\n",
      "INFO:root:\n",
      " - TRAIN: Network Scores\n",
      "\tAccuracy: 0.42 Fscore: 0.41067821067821064\n",
      "\tPrecision: 0.41273809523809524 recall: 0.43380952380952376\n",
      " - VALIDATION: Network Scores\n",
      "\tAccuracy: 0.5 Fscore: 0.4104127966976264\n",
      "\tPrecision: 0.41666666666666663 recall: 0.41166666666666674\n",
      " - TEST: Network Scores\n",
      "\tAccuracy: 0.5 Fscore: 0.4208610996846291\n",
      "\tPrecision: 0.4121428571428572 recall: 0.4533333333333333\n",
      "\n",
      "INFO:root:***********LOGISTIC REGRESSION WITH LAYER***********\n",
      "INFO:root:Layer 1 size = 200 Layer 2 size = 200\n",
      "INFO:root:Training time is : 0:00:04.389794\n",
      "INFO:root:Batch_size=50 Num training iterations=300 dropout_rate=0.5\n",
      "\t\tTraining time is : 0:00:04.389794\n",
      "\t\tNumber of weights in net is : 199210\n",
      "INFO:root:\n",
      " - TRAIN: Network Scores\n",
      "\tAccuracy: 0.8 Fscore: 0.819004329004329\n",
      "\tPrecision: 0.8230952380952381 recall: 0.8511904761904763\n",
      " - VALIDATION: Network Scores\n",
      "\tAccuracy: 0.8 Fscore: 0.6975818625818626\n",
      "\tPrecision: 0.7273809523809524 recall: 0.7008333333333334\n",
      " - TEST: Network Scores\n",
      "\tAccuracy: 0.82 Fscore: 0.7940825840825841\n",
      "\tPrecision: 0.7941666666666667 recall: 0.8442857142857143\n",
      "\n",
      "INFO:root:***********LOGISTIC REGRESSION WITH CONVOLUTION***********\n",
      "INFO:root:Reached 99% accuracy within 87 iterations and 0:00:13.128860\n",
      "INFO:root:Training time is : 0:00:13.131090\n",
      "INFO:root:Batch_size=50 Num training iterations=300 dropout_rate=0.5\n",
      "\t\tTraining time is : 0:00:13.131090\n",
      "\t\tNumber of weights in net is : 3258634.0\n",
      "INFO:root:\n",
      " - TRAIN: Network Scores\n",
      "\tAccuracy: 0.98 Fscore: 0.9746031746031747\n",
      "\tPrecision: 0.9800000000000001 recall: 0.975\n",
      " - VALIDATION: Network Scores\n",
      "\tAccuracy: 0.94 Fscore: 0.9453199578199577\n",
      "\tPrecision: 0.9565476190476192 recall: 0.9425000000000001\n",
      " - TEST: Network Scores\n",
      "\tAccuracy: 0.92 Fscore: 0.9067210567210566\n",
      "\tPrecision: 0.8966666666666668 recall: 0.9380952380952381\n",
      "\n"
     ]
    }
   ],
   "source": [
    "# os.environ['CUDA_VISIBLE_DEVICES'] = '-1' #  this command forces to use CPU instead of GPU\n",
    "# logging.basicConfig(level=logging.INFO, filename='logger.log', filemode='w')\n",
    "logging.basicConfig(level=logging.INFO)\n",
    "if tf.test.gpu_device_name():\n",
    "    logging.info('GPU found')\n",
    "else:\n",
    "    logging.info(\"No GPU found\")\n",
    "config = tf.compat.v1.ConfigProto()\n",
    "config.gpu_options.allow_growth = True\n",
    "sess = tf.compat.v1.InteractiveSession(config=config)\n",
    "\n",
    "networks = create_networks(session=sess)\n",
    "# begin training networks - run performs buildTrain, predict, score and visualize\n",
    "for network in networks:\n",
    "    network.run()\n",
    "    logging.info(network.scores_str())\n",
    "sort_by_fscore(networks)\n"
   ]
  },
  {
   "cell_type": "code",
   "execution_count": 31,
   "metadata": {},
   "outputs": [
    {
     "name": "stderr",
     "output_type": "stream",
     "text": [
      "INFO:root:Printing net with fscore value = 0.9067210567210566\n",
      "INFO:root:Printing layer number 1 channel number: 0 for predicted value [6]before relu \n"
     ]
    },
    {
     "data": {
      "image/png": "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\n",
      "text/plain": [
       "<Figure size 432x288 with 1 Axes>"
      ]
     },
     "metadata": {
      "needs_background": "light"
     },
     "output_type": "display_data"
    },
    {
     "name": "stderr",
     "output_type": "stream",
     "text": [
      "INFO:root:Printing net with fscore value = 0.9067210567210566\n",
      "INFO:root:Printing layer number 1 channel number: 0 for predicted value [6] after relu\n"
     ]
    },
    {
     "data": {
      "image/png": "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\n",
      "text/plain": [
       "<Figure size 432x288 with 1 Axes>"
      ]
     },
     "metadata": {
      "needs_background": "light"
     },
     "output_type": "display_data"
    },
    {
     "name": "stderr",
     "output_type": "stream",
     "text": [
      "INFO:root:Printing net with fscore value = 0.9067210567210566\n",
      "INFO:root:Printing layer number 2 channel number: 0 for predicted value [6]before relu \n"
     ]
    },
    {
     "data": {
      "image/png": "iVBORw0KGgoAAAANSUhEUgAAAPsAAAD4CAYAAAAq5pAIAAAABHNCSVQICAgIfAhkiAAAAAlwSFlzAAALEgAACxIB0t1+/AAAADh0RVh0U29mdHdhcmUAbWF0cGxvdGxpYiB2ZXJzaW9uMy4xLjEsIGh0dHA6Ly9tYXRwbG90bGliLm9yZy8QZhcZAAAOy0lEQVR4nO3dbazU5ZnH8e+Pw0Hk8XBWW0FQLD7sGuwuDTHWbupGS4LWSBM3iqkbtE32ze5Wmyatxphm323SpmmTbdr41Jot0RfWtsa0XQm1aTZRo/jAKmBxQQE9AmoAUZ4OXPtihgQRDua+/vNn6P37JOScmTMX1804P/8z/5n7XIoIzOwv37iTvQAza4fDblYJh92sEg67WSUcdrNKjG+z2aRJk2L69OnF9YcOHSqulVRcCzBuXPn/F/fv35/qnanft29fqnf23ZrM/TZjxoyT1jvzWIPc4+3gwYPFtbt27WLPnj3HbN5q2KdPn84tt9xSXP/hhx8W1w4ODhbXApx++unFtZs2bUr1HhkZKa5dv359qnfmgQdw2mmnFddef/31qd7Tpk0rrt29e3eq98DAQHHtBx98UFy7fPny4/7MT+PNKuGwm1XCYTerRCrskhZLelXSa5LuaGpRZta84rBLGgB+DFwNXAzcJOniphZmZs3KHNkvBV6LiA0RsR94GFjSzLLMrGmZsJ8NbD7i8pbudR8h6Z8lPSfpucxbZ2aWkwn7sd64/9gnMCLinohYGBELJ02alGhnZhmZsG8B5hxxeTbwVm45ZtYrmbA/C1wg6TxJE4ClwGPNLMvMmlb8cdmIGJX0r8B/AwPAAxHxSmMrM7NGpT4bHxG/BX7b0FrMrIf8CTqzSjjsZpVodYurpNRW0zPPPLO4dmhoqLgWYPXq1cW12X3ZZ511VnFtZrskdLYlZ2Tu971796Z6Z+63zBZVgIkTJxbXZrbmjpUvH9nNKuGwm1XCYTerhMNuVgmH3awSDrtZJRx2s0o47GaVcNjNKuGwm1XCYTerhMNuVgmH3awSDrtZJVrd4hoRjI6OFtdnJmvu2rWruBZyY5N37tyZ6r1mzZri2s2bN5/4RmO45pprUvULFy4srs08VgC2bt1aXPvuu++memem/mbGZB84cOC4P/OR3awSDrtZJRx2s0o47GaVyExxnSPpSUlrJb0i6bYmF2ZmzcqcjR8FvhURz0uaCqyStCIiyk8dm1nPFB/ZI2IkIp7vfv8+sJZjTHE1s/7QyGt2SXOBBcAzx/iZRzab9YF02CVNAX4J3B4RH/vkikc2m/WHVNglDdIJ+vKIeLSZJZlZL2TOxgu4H1gbET9obklm1guZI/sXgH8CrpT0YvdP7oPUZtYzmfns/wOowbWYWQ/5E3RmlXDYzSrR6n72rMxbd9k95Zn6t99+O9U7M/73xhtvTPW+4YYbUvVvvvlmce3GjRtTvd95553i2sx9DrmRz5nfnTDWXngf2c0q4bCbVcJhN6uEw25WCYfdrBIOu1klHHazSjjsZpVw2M0q4bCbVcJhN6uEw25WCYfdrBIOu1klTqktrmONoz2R7MjmgwcPFtdOmDAh1fvpp58urp03b16q97333puqz4yMzm4NzoxdPvfcc1O9r7jiiuLazPbYzq+GPDYf2c0q4bCbVcJhN6uEw25WiSbGPw1IekHS400syMx6o4kj+210JriaWR/LznqbDXwZuK+Z5ZhZr2SP7D8Evg0cOt4NPLLZrD9kBjteC2yLiFVj3c4jm836Q3aw43WSXgcepjPg8ReNrMrMGlcc9oi4MyJmR8RcYCnwh4i4ubGVmVmj/D67WSUa2QgTEX8E/tjE32VmveEju1klHHazSng/+yc0ZcqU4trMvmqAOXPmFNcODw+nemf2VgO89957xbXjxuWORUNDQ8W127dvT/Uea1/5iUyePLm4dqz7zEd2s0o47GaVcNjNKuGwm1XCYTerhMNuVgmH3awSDrtZJRx2s0o47GaVcNjNKuGwm1XCYTerhMNuVolTaovrxIkTT0ot5LZLZmoBFixYUFy7Y8eOVO9XX301VZ/Zrrlt27ZU78x/8/PPPz/VO7NFNtN7cHDwuD/zkd2sEg67WSUcdrNKOOxmlcgOdhyS9IikdZLWSvp8Uwszs2Zlz8b/CPh9RPyjpAmAh7mZ9anisEuaBnwRuAUgIvYD+5tZlpk1LfM0/jPAduBnkl6QdJ+kj72p6pHNZv0hE/bxwOeAn0TEAuAD4I6jb+SRzWb9IRP2LcCWiHime/kROuE3sz6UGdn8NrBZ0kXdq64C1jSyKjNrXPZs/L8By7tn4jcAt+aXZGa9kAp7RLwILGxoLWbWQ/4EnVklHHazSpxS+9n37t1bXDs6OprqvXv37uLa7OjhtWvXFteuW7cu1fvSSy9N1S9atKi49tZbc6eA1qwpP188derUVO958+YV177++uvFtYcOHTruz3xkN6uEw25WCYfdrBIOu1klHHazSjjsZpVw2M0q4bCbVcJhN6uEw25WCYfdrBIOu1klHHazSjjsZpVw2M0qcUrtZ8/MGpeU6p3Zz579FdqzZs0qrr3kkktSvZcuXZqqX716dXHtqlWrUr0z89nnzp2b6p2ZSx8RPan1kd2sEg67WSUcdrNKZEc2f1PSK5JelvSQpPIXSWbWU8Vhl3Q28A1gYUTMBwaA3NkcM+uZ7NP48cDpksbTmc3+Vn5JZtYLmVlvbwLfBzYBI8DOiHji6Nt5ZLNZf8g8jZ8BLAHOA2YBkyXdfPTtPLLZrD9knsZ/CdgYEdsj4gDwKHB5M8sys6Zlwr4JuEzSJHU+nnYVUD66xMx6KvOa/RngEeB54H+7f9c9Da3LzBqWHdn8XeC7Da3FzHrIn6Azq4TDblaJU2qLa2b0cWbLIcDIyEhx7ZQpU1K9zzjjjOLazDZPgHvuyZ2GWbFiRXHt1Vdfnep9880feyf4E5s5c2aq98aNG4trM9uxx6r1kd2sEg67WSUcdrNKOOxmlXDYzSrhsJtVwmE3q4TDblYJh92sEg67WSUcdrNKOOxmlXDYzSrhsJtVwmE3q8QptZ99YGCguHbXrl2p3sPDw8W1mf3okPt3Dw4OpnpfeOGFqfrbb7+9uPbyy3O/rPjZZ58trn3qqadSvTMzEjZs2FBcu2/fvuP+zEd2s0o47GaVcNjNKnHCsEt6QNI2SS8fcd2wpBWS1ne/zujtMs0s65Mc2X8OLD7qujuAlRFxAbCye9nM+tgJwx4RfwLeO+rqJcCD3e8fBL7S8LrMrGGlr9k/HREjAN2vnzreDT2y2aw/9PwEnUc2m/WH0rBvlTQToPt1W3NLMrNeKA37Y8Cy7vfLgN80sxwz65VP8tbbQ8BTwEWStkj6OvAfwCJJ64FF3ctm1sdO+Nn4iLjpOD+6quG1mFkP+RN0ZpVw2M0qUc0W10wtwNSpU09KLUBEFNdeeeWVqd7nnHNOqv6ll14qrr377rtTvbdu3Vpcu2fPnlTvoaGh4trp06cX1471OPeR3awSDrtZJRx2s0o47GaVcNjNKuGwm1XCYTerhMNuVgmH3awSDrtZJRx2s0o47GaVcNjNKuGwm1XCYTerRKv72SUxfnx5y2nTphXXzpw5s7gWcvubd+zYkeo9f/784to33ngj1fvJJ59M1e/cubO4dty43LEo8988+2vPM4/zCRMm9KTWR3azSjjsZpVw2M0qUTqy+XuS1klaLelXksp/4ZaZtaJ0ZPMKYH5EfBb4M3Bnw+sys4YVjWyOiCciYrR78Wlgdg/WZmYNauI1+9eA3zXw95hZD6XCLukuYBRYPsZtPJ/drA8Uh13SMuBa4KsxxhQDz2c36w9FH/ORtBj4DnBFRPhwbXYKKB3Z/J/AVGCFpBcl/bTH6zSzpNKRzff3YC1m1kP+BJ1ZJRx2s0q0usV13LhxTJkyJVVfKrvNNOP9999P1a9cubK4dtasWaneg4ODqfrh4eHi2sxjBeDQoUPFtZJSvUdHR098o+PIbI8di4/sZpVw2M0q4bCbVcJhN6uEw25WCYfdrBIOu1klHHazSjjsZpVw2M0q4bCbVcJhN6uEw25WCYfdrBIOu1klNMYvhm2+mbQdGGuG8BnAOy0tx73d+y+x97kRceaxftBq2E9E0nMRsdC93du9m+en8WaVcNjNKtFvYb/Hvd3bvXujr16zm1nv9NuR3cx6xGE3q0RfhF3SYkmvSnpN0h0t9p0j6UlJayW9Ium2tnofsYYBSS9IerzlvkOSHpG0rvvv/3yLvb/Zvb9flvSQpIk97veApG2SXj7iumFJKySt736d0WLv73Xv99WSfiVpqBe9j3bSwy5pAPgxcDVwMXCTpItbaj8KfCsi/ga4DPiXFnsfdhuwtuWeAD8Cfh8Rfw38bVtrkHQ28A1gYUTMBwaApT1u+3Ng8VHX3QGsjIgLgJXdy231XgHMj4jPAn8G7uxR74846WEHLgVei4gNEbEfeBhY0kbjiBiJiOe7379P5wF/dhu9ASTNBr4M3NdWz27facAX6Q7ojIj9EdHmyJzxwOmSxgOTgLd62Swi/gS8d9TVS4AHu98/CHylrd4R8UREHB4Z8zQwuxe9j9YPYT8b2HzE5S20GLjDJM0FFgDPtNj2h8C3gfI5RWU+A2wHftZ9CXGfpMltNI6IN4HvA5uAEWBnRDzRRu+jfDoiRrprGgE+dRLWAPA14HdtNOqHsB9rqFar7wdKmgL8Erg9Ina11PNaYFtErGqj31HGA58DfhIRC4AP6N3T2I/ovjZeApwHzAImS7q5jd79RtJddF5KLm+jXz+EfQsw54jLs+nx07ojSRqkE/TlEfFoW32BLwDXSXqdzkuXKyX9oqXeW4AtEXH4WcwjdMLfhi8BGyNie0QcAB4FLm+p95G2SpoJ0P26rc3mkpYB1wJfjZY+7NIPYX8WuEDSeZIm0DlZ81gbjdUZ1Xk/sDYiftBGz8Mi4s6ImB0Rc+n8m/8QEa0c4SLibWCzpIu6V10FrGmjN52n75dJmtS9/6/i5JygfAxY1v1+GfCbthpLWgx8B7guIj5sqy8RcdL/ANfQOSv5f8BdLfb9ezovGVYDL3b/XHMS/v3/ADzecs+/A57r/tt/Dcxosfe/A+uAl4H/Ak7rcb+H6JwfOEDnWc3Xgb+icxZ+fffrcIu9X6NznurwY+6nbdzv/risWSX64Wm8mbXAYTerhMNuVgmH3awSDrtZJRx2s0o47GaV+H/TGFmmHYFkiwAAAABJRU5ErkJggg==\n",
      "text/plain": [
       "<Figure size 432x288 with 1 Axes>"
      ]
     },
     "metadata": {
      "needs_background": "light"
     },
     "output_type": "display_data"
    },
    {
     "name": "stderr",
     "output_type": "stream",
     "text": [
      "INFO:root:Printing net with fscore value = 0.9067210567210566\n",
      "INFO:root:Printing layer number 2 channel number: 0 for predicted value [6] after relu\n"
     ]
    },
    {
     "data": {
      "image/png": "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\n",
      "text/plain": [
       "<Figure size 432x288 with 1 Axes>"
      ]
     },
     "metadata": {
      "needs_background": "light"
     },
     "output_type": "display_data"
    },
    {
     "name": "stderr",
     "output_type": "stream",
     "text": [
      "INFO:root:Printing net with fscore value = 0.7940825840825841\n",
      "INFO:root:Invalid input, printing the image as is\n"
     ]
    },
    {
     "data": {
      "image/png": "iVBORw0KGgoAAAANSUhEUgAAAPsAAAD4CAYAAAAq5pAIAAAABHNCSVQICAgIfAhkiAAAAAlwSFlzAAALEgAACxIB0t1+/AAAADh0RVh0U29mdHdhcmUAbWF0cGxvdGxpYiB2ZXJzaW9uMy4xLjEsIGh0dHA6Ly9tYXRwbG90bGliLm9yZy8QZhcZAAANsElEQVR4nO3db6hcdX7H8c8n6aro5kFSiV5c/2yCmg3FmhJN0SBqNKgPjEG2bIglpcLdBxtZUbSyRVYpG6TtRn20ckXdtFijoKtxLf4LodkqLCZizfXPJlaim70hwT9gIso2ybcP7kl7jXd+czNzZs6Y7/sFw8yc7z1zvgz55Hdmzpzzc0QIwLFvWtMNAOgPwg4kQdiBJAg7kARhB5L4k35uzDZf/QM9FhGebHlXI7vtq2z/zvZ7tu/o5rUA9JY7Pc5ue7qk7ZKulLRL0muSVkTE24V1GNmBHuvFyH6hpPci4v2I+KOk9ZKWdfF6AHqom7CfJun3E57vqpZ9he1h21tsb+liWwC61M0XdJPtKnxtNz0iRiSNSOzGA03qZmTfJen0Cc+/I2msu3YA9Eo3YX9N0tm2v2v7OEk/kLShnrYA1K3j3fiIOGB7taQXJE2X9HBEvFVbZwBq1fGht442xmd2oOd68qMaAN8chB1IgrADSRB2IAnCDiRB2IEk+no+O/pv+vTpxfrSpUuL9UcffbRYnzlzZrF+yy23tKzde++9xXVRL0Z2IAnCDiRB2IEkCDuQBGEHkiDsQBKc9XaMW7RoUbH+6quv9nT7mzdvbllbsmRJcd1Dhw7V3U4KnPUGJEfYgSQIO5AEYQeSIOxAEoQdSIKwA0lwiusxYN68eS1rzz33XB87+boTTjih0e3j/zGyA0kQdiAJwg4kQdiBJAg7kARhB5Ig7EASHGc/Btx0000ta+0u9dzO2rVri/WtW7cW62NjYy1rnK/eX12F3fZOSfskHZR0ICIW1tEUgPrVMbJfFhEf1fA6AHqIz+xAEt2GPSS9aHur7eHJ/sD2sO0ttrd0uS0AXeh2N/7iiBizPVvSS7bfjYivXGEwIkYkjUhccBJoUlcje0SMVfd7Jf1K0oV1NAWgfh2H3fZJtmccfixpqaTRuhoDUK+Orxtve47GR3Np/OPAv0XEz9qsw258B+bOnVusj462/j/2uOOOK6779ttvF+uXXXZZsf7RRxyIGTStrhvf8Wf2iHhf0p933BGAvuLQG5AEYQeSIOxAEoQdSIKwA0lwius3wKpVq4r10uG1AwcOFNddvXp1sc6htWMHIzuQBGEHkiDsQBKEHUiCsANJEHYgCcIOJNHxKa4dbYxTXCdVmnJZkjZt2lSsz549u2Vt7969xXWHhoaKdXzztDrFlZEdSIKwA0kQdiAJwg4kQdiBJAg7kARhB5LgfPYBcOWVVxbrpePo7axZs6bjdXFsYWQHkiDsQBKEHUiCsANJEHYgCcIOJEHYgSQ4zj4Arr322q7WL12T4JlnnunqtXtp+vTpXdXbKV0z/9ChQ1299jdR25Hd9sO299oenbBslu2XbO+o7mf2tk0A3ZrKbvwvJV11xLI7JG2MiLMlbayeAxhgbcMeEZslfXLE4mWS1lWP10m6rua+ANSs08/sp0TEbkmKiN22W/542/awpOEOtwOgJj3/gi4iRiSNSFxwEmhSp4fe9tgekqTqvnwJUwCN6zTsGyQdnkd4laTBPb4DQNIUduNtPybpUkkn294l6aeS7pH0hO0bJX0o6fu9bBJlL7zwQsvahx9+2NVrT5tWHg9uvfXWYv3cc89tWVu0aFFx3fnz5xfr7bz44ostaxs2bCiuu379+mL9008/7ainJrUNe0SsaFFaUnMvAHqIn8sCSRB2IAnCDiRB2IEkCDuQBKe49sEZZ5xRrF9wwQU92/bxxx9frN9+++3F+rJly4r1BQsWHHVP/bJ06dKOapK0ePHiYn3lypUd9dQkRnYgCcIOJEHYgSQIO5AEYQeSIOxAEoQdSILj7H1w6qmnFuszZszo6vVHR0db1l5++eXiuhdddFFX2z5WtTvOfs455xTr27dvr7OdWjCyA0kQdiAJwg4kQdiBJAg7kARhB5Ig7EASLk33W/vGks4Is2PHjmJ9zpw5fepksDzwwAPF+uOPP16sX3755cX6nXfeedQ9TdXatWuL9dtuu61n224nIjzZckZ2IAnCDiRB2IEkCDuQBGEHkiDsQBKEHUiC89n7oN357IOsNB20JN19993F+rvvvtuy9tlnnxXXPfHEE4v1efPmFevd+PLLL4v1Bx98sGfb7pW2I7vth23vtT06Ydldtv9g+43qdk1v2wTQransxv9S0lWTLL83Is6vbv9eb1sA6tY27BGxWdInfegFQA918wXdattvVrv5M1v9ke1h21tsb+liWwC61GnYfyFprqTzJe2W9PNWfxgRIxGxMCIWdrgtADXoKOwRsSciDkbEIUkPSrqw3rYA1K2jsNsemvB0uaTW1zIGMBDaHme3/ZikSyWdbHuXpJ9KutT2+ZJC0k5JP+xhj+jCgQMHivWHHnqoWG83f/v+/fuPuqfDLrnkkmL9/vvvL9bPO++8jrfdziuvvFKsD+J14dtpG/aIWDHJ4vK/EAADh5/LAkkQdiAJwg4kQdiBJAg7kASXku6Dffv2FevtTuXsRrvTSNtNPTxtWnk8GB4eLtavv/76lrW5c+cW1+3l+7JmzZpi/b777ivWP/744zrbqRWXkgaSI+xAEoQdSIKwA0kQdiAJwg4kQdiBJDjO3gdNHmfP7Omnn25Zu+GGG4rrfvHFF3W30zccZweSI+xAEoQdSIKwA0kQdiAJwg4kQdiBJJiyuQ8OHjzYdAsDqd1vPLZt21asr1y5slj/4IMPWta+ycfRO8XIDiRB2IEkCDuQBGEHkiDsQBKEHUiCsANJcD57HyxcuLBYf+SRR4r1+fPn19lOrT7//PNi/YknnmhZ27BhQ3HddnVMruPz2W2fbnuT7Xdsv2X7x9XyWbZfsr2jup9Zd9MA6jOV3fgDkm6NiO9J+ktJP7I9X9IdkjZGxNmSNlbPAQyotmGPiN0R8Xr1eJ+kdySdJmmZpHXVn62TdF2vmgTQvaP6bbztsyQtkPRbSadExG5p/D8E27NbrDMsqTwhGICem3LYbX9b0pOSbo6Iz+xJvwP4mogYkTRSvUbKL+iAQTClQ2+2v6XxoD8aEU9Vi/fYHqrqQ5L29qZFAHVoe+jN40P4OkmfRMTNE5b/k6SPI+Ie23dImhURt7d5LUb2SVxxxRXF+vLly4v1q6++umXtzDPPLK47NjZWrLc7/PX8888X688++2yxjvq1OvQ2ld34iyX9taRttt+olv1E0j2SnrB9o6QPJX2/jkYB9EbbsEfEf0pq9QF9Sb3tAOgVfi4LJEHYgSQIO5AEYQeSIOxAEpziChxjmLIZSI6wA0kQdiAJwg4kQdiBJAg7kARhB5Ig7EAShB1IgrADSRB2IAnCDiRB2IEkCDuQBGEHkiDsQBKEHUiCsANJEHYgCcIOJEHYgSQIO5AEYQeSaBt226fb3mT7Hdtv2f5xtfwu23+w/UZ1u6b37QLoVNtJImwPSRqKiNdtz5C0VdJ1kv5K0v6I+Ocpb4xJIoCeazVJxFTmZ98taXf1eJ/tdySdVm97AHrtqD6z2z5L0gJJv60Wrbb9pu2Hbc9ssc6w7S22t3TVKYCuTHmuN9vflvQfkn4WEU/ZPkXSR5JC0j9ofFf/b9u8BrvxQI+12o2fUthtf0vSryW9EBFrJ6mfJenXEfFnbV6HsAM91vHEjrYt6SFJ70wMevXF3WHLJY122ySA3pnKt/GLJf1G0jZJh6rFP5G0QtL5Gt+N3ynph9WXeaXXYmQHeqyr3fi6EHag95ifHUiOsANJEHYgCcIOJEHYgSQIO5AEYQeSIOxAEoQdSIKwA0kQdiAJwg4kQdiBJAg7kETbC07W7CNJH0x4fnK1bBANam+D2pdEb52qs7czWxX6ej771zZub4mIhY01UDCovQ1qXxK9dapfvbEbDyRB2IEkmg77SMPbLxnU3ga1L4neOtWX3hr9zA6gf5oe2QH0CWEHkmgk7Lavsv072+/ZvqOJHlqxvdP2tmoa6kbnp6vm0Ntre3TCslm2X7K9o7qfdI69hnobiGm8C9OMN/reNT39ed8/s9ueLmm7pCsl7ZL0mqQVEfF2XxtpwfZOSQsjovEfYNi+RNJ+Sf9yeGot2/8o6ZOIuKf6j3JmRPzdgPR2l45yGu8e9dZqmvG/UYPvXZ3Tn3eiiZH9QknvRcT7EfFHSeslLWugj4EXEZslfXLE4mWS1lWP12n8H0vftehtIETE7oh4vXq8T9LhacYbfe8KffVFE2E/TdLvJzzfpcGa7z0kvWh7q+3hppuZxCmHp9mq7mc33M+R2k7j3U9HTDM+MO9dJ9Ofd6uJsE82Nc0gHf+7OCL+QtLVkn5U7a5ian4haa7G5wDcLennTTZTTTP+pKSbI+KzJnuZaJK++vK+NRH2XZJOn/D8O5LGGuhjUhExVt3vlfQrjX/sGCR7Ds+gW93vbbif/xMReyLiYEQckvSgGnzvqmnGn5T0aEQ8VS1u/L2brK9+vW9NhP01SWfb/q7t4yT9QNKGBvr4GtsnVV+cyPZJkpZq8Kai3iBpVfV4laRnGuzlKwZlGu9W04yr4feu8enPI6LvN0nXaPwb+f+W9PdN9NCirzmS/qu6vdV0b5Ie0/hu3f9ofI/oRkl/KmmjpB3V/awB6u1fNT6195saD9ZQQ70t1vhHwzclvVHdrmn6vSv01Zf3jZ/LAknwCzogCcIOJEHYgSQIO5AEYQeSIOxAEoQdSOJ/AU42SDbDt9HaAAAAAElFTkSuQmCC\n",
      "text/plain": [
       "<Figure size 432x288 with 1 Axes>"
      ]
     },
     "metadata": {
      "needs_background": "light"
     },
     "output_type": "display_data"
    },
    {
     "name": "stderr",
     "output_type": "stream",
     "text": [
      "INFO:root:Printing net with fscore value = 0.7940825840825841\n",
      "INFO:root:Invalid input, printing the image as is\n"
     ]
    },
    {
     "data": {
      "image/png": "iVBORw0KGgoAAAANSUhEUgAAAPsAAAD4CAYAAAAq5pAIAAAABHNCSVQICAgIfAhkiAAAAAlwSFlzAAALEgAACxIB0t1+/AAAADh0RVh0U29mdHdhcmUAbWF0cGxvdGxpYiB2ZXJzaW9uMy4xLjEsIGh0dHA6Ly9tYXRwbG90bGliLm9yZy8QZhcZAAANsElEQVR4nO3db6hcdX7H8c8n6aro5kFSiV5c/2yCmg3FmhJN0SBqNKgPjEG2bIglpcLdBxtZUbSyRVYpG6TtRn20ckXdtFijoKtxLf4LodkqLCZizfXPJlaim70hwT9gIso2ybcP7kl7jXd+czNzZs6Y7/sFw8yc7z1zvgz55Hdmzpzzc0QIwLFvWtMNAOgPwg4kQdiBJAg7kARhB5L4k35uzDZf/QM9FhGebHlXI7vtq2z/zvZ7tu/o5rUA9JY7Pc5ue7qk7ZKulLRL0muSVkTE24V1GNmBHuvFyH6hpPci4v2I+KOk9ZKWdfF6AHqom7CfJun3E57vqpZ9he1h21tsb+liWwC61M0XdJPtKnxtNz0iRiSNSOzGA03qZmTfJen0Cc+/I2msu3YA9Eo3YX9N0tm2v2v7OEk/kLShnrYA1K3j3fiIOGB7taQXJE2X9HBEvFVbZwBq1fGht442xmd2oOd68qMaAN8chB1IgrADSRB2IAnCDiRB2IEk+no+O/pv+vTpxfrSpUuL9UcffbRYnzlzZrF+yy23tKzde++9xXVRL0Z2IAnCDiRB2IEkCDuQBGEHkiDsQBKc9XaMW7RoUbH+6quv9nT7mzdvbllbsmRJcd1Dhw7V3U4KnPUGJEfYgSQIO5AEYQeSIOxAEoQdSIKwA0lwiusxYN68eS1rzz33XB87+boTTjih0e3j/zGyA0kQdiAJwg4kQdiBJAg7kARhB5Ig7EASHGc/Btx0000ta+0u9dzO2rVri/WtW7cW62NjYy1rnK/eX12F3fZOSfskHZR0ICIW1tEUgPrVMbJfFhEf1fA6AHqIz+xAEt2GPSS9aHur7eHJ/sD2sO0ttrd0uS0AXeh2N/7iiBizPVvSS7bfjYivXGEwIkYkjUhccBJoUlcje0SMVfd7Jf1K0oV1NAWgfh2H3fZJtmccfixpqaTRuhoDUK+Orxtve47GR3Np/OPAv0XEz9qsw258B+bOnVusj462/j/2uOOOK6779ttvF+uXXXZZsf7RRxyIGTStrhvf8Wf2iHhf0p933BGAvuLQG5AEYQeSIOxAEoQdSIKwA0lwius3wKpVq4r10uG1AwcOFNddvXp1sc6htWMHIzuQBGEHkiDsQBKEHUiCsANJEHYgCcIOJNHxKa4dbYxTXCdVmnJZkjZt2lSsz549u2Vt7969xXWHhoaKdXzztDrFlZEdSIKwA0kQdiAJwg4kQdiBJAg7kARhB5LgfPYBcOWVVxbrpePo7axZs6bjdXFsYWQHkiDsQBKEHUiCsANJEHYgCcIOJEHYgSQ4zj4Arr322q7WL12T4JlnnunqtXtp+vTpXdXbKV0z/9ChQ1299jdR25Hd9sO299oenbBslu2XbO+o7mf2tk0A3ZrKbvwvJV11xLI7JG2MiLMlbayeAxhgbcMeEZslfXLE4mWS1lWP10m6rua+ANSs08/sp0TEbkmKiN22W/542/awpOEOtwOgJj3/gi4iRiSNSFxwEmhSp4fe9tgekqTqvnwJUwCN6zTsGyQdnkd4laTBPb4DQNIUduNtPybpUkkn294l6aeS7pH0hO0bJX0o6fu9bBJlL7zwQsvahx9+2NVrT5tWHg9uvfXWYv3cc89tWVu0aFFx3fnz5xfr7bz44ostaxs2bCiuu379+mL9008/7ainJrUNe0SsaFFaUnMvAHqIn8sCSRB2IAnCDiRB2IEkCDuQBKe49sEZZ5xRrF9wwQU92/bxxx9frN9+++3F+rJly4r1BQsWHHVP/bJ06dKOapK0ePHiYn3lypUd9dQkRnYgCcIOJEHYgSQIO5AEYQeSIOxAEoQdSILj7H1w6qmnFuszZszo6vVHR0db1l5++eXiuhdddFFX2z5WtTvOfs455xTr27dvr7OdWjCyA0kQdiAJwg4kQdiBJAg7kARhB5Ig7EASLk33W/vGks4Is2PHjmJ9zpw5fepksDzwwAPF+uOPP16sX3755cX6nXfeedQ9TdXatWuL9dtuu61n224nIjzZckZ2IAnCDiRB2IEkCDuQBGEHkiDsQBKEHUiC89n7oN357IOsNB20JN19993F+rvvvtuy9tlnnxXXPfHEE4v1efPmFevd+PLLL4v1Bx98sGfb7pW2I7vth23vtT06Ydldtv9g+43qdk1v2wTQransxv9S0lWTLL83Is6vbv9eb1sA6tY27BGxWdInfegFQA918wXdattvVrv5M1v9ke1h21tsb+liWwC61GnYfyFprqTzJe2W9PNWfxgRIxGxMCIWdrgtADXoKOwRsSciDkbEIUkPSrqw3rYA1K2jsNsemvB0uaTW1zIGMBDaHme3/ZikSyWdbHuXpJ9KutT2+ZJC0k5JP+xhj+jCgQMHivWHHnqoWG83f/v+/fuPuqfDLrnkkmL9/vvvL9bPO++8jrfdziuvvFKsD+J14dtpG/aIWDHJ4vK/EAADh5/LAkkQdiAJwg4kQdiBJAg7kASXku6Dffv2FevtTuXsRrvTSNtNPTxtWnk8GB4eLtavv/76lrW5c+cW1+3l+7JmzZpi/b777ivWP/744zrbqRWXkgaSI+xAEoQdSIKwA0kQdiAJwg4kQdiBJDjO3gdNHmfP7Omnn25Zu+GGG4rrfvHFF3W30zccZweSI+xAEoQdSIKwA0kQdiAJwg4kQdiBJJiyuQ8OHjzYdAsDqd1vPLZt21asr1y5slj/4IMPWta+ycfRO8XIDiRB2IEkCDuQBGEHkiDsQBKEHUiCsANJcD57HyxcuLBYf+SRR4r1+fPn19lOrT7//PNi/YknnmhZ27BhQ3HddnVMruPz2W2fbnuT7Xdsv2X7x9XyWbZfsr2jup9Zd9MA6jOV3fgDkm6NiO9J+ktJP7I9X9IdkjZGxNmSNlbPAQyotmGPiN0R8Xr1eJ+kdySdJmmZpHXVn62TdF2vmgTQvaP6bbztsyQtkPRbSadExG5p/D8E27NbrDMsqTwhGICem3LYbX9b0pOSbo6Iz+xJvwP4mogYkTRSvUbKL+iAQTClQ2+2v6XxoD8aEU9Vi/fYHqrqQ5L29qZFAHVoe+jN40P4OkmfRMTNE5b/k6SPI+Ie23dImhURt7d5LUb2SVxxxRXF+vLly4v1q6++umXtzDPPLK47NjZWrLc7/PX8888X688++2yxjvq1OvQ2ld34iyX9taRttt+olv1E0j2SnrB9o6QPJX2/jkYB9EbbsEfEf0pq9QF9Sb3tAOgVfi4LJEHYgSQIO5AEYQeSIOxAEpziChxjmLIZSI6wA0kQdiAJwg4kQdiBJAg7kARhB5Ig7EAShB1IgrADSRB2IAnCDiRB2IEkCDuQBGEHkiDsQBKEHUiCsANJEHYgCcIOJEHYgSQIO5AEYQeSaBt226fb3mT7Hdtv2f5xtfwu23+w/UZ1u6b37QLoVNtJImwPSRqKiNdtz5C0VdJ1kv5K0v6I+Ocpb4xJIoCeazVJxFTmZ98taXf1eJ/tdySdVm97AHrtqD6z2z5L0gJJv60Wrbb9pu2Hbc9ssc6w7S22t3TVKYCuTHmuN9vflvQfkn4WEU/ZPkXSR5JC0j9ofFf/b9u8BrvxQI+12o2fUthtf0vSryW9EBFrJ6mfJenXEfFnbV6HsAM91vHEjrYt6SFJ70wMevXF3WHLJY122ySA3pnKt/GLJf1G0jZJh6rFP5G0QtL5Gt+N3ynph9WXeaXXYmQHeqyr3fi6EHag95ifHUiOsANJEHYgCcIOJEHYgSQIO5AEYQeSIOxAEoQdSIKwA0kQdiAJwg4kQdiBJAg7kETbC07W7CNJH0x4fnK1bBANam+D2pdEb52qs7czWxX6ej771zZub4mIhY01UDCovQ1qXxK9dapfvbEbDyRB2IEkmg77SMPbLxnU3ga1L4neOtWX3hr9zA6gf5oe2QH0CWEHkmgk7Lavsv072+/ZvqOJHlqxvdP2tmoa6kbnp6vm0Ntre3TCslm2X7K9o7qfdI69hnobiGm8C9OMN/reNT39ed8/s9ueLmm7pCsl7ZL0mqQVEfF2XxtpwfZOSQsjovEfYNi+RNJ+Sf9yeGot2/8o6ZOIuKf6j3JmRPzdgPR2l45yGu8e9dZqmvG/UYPvXZ3Tn3eiiZH9QknvRcT7EfFHSeslLWugj4EXEZslfXLE4mWS1lWP12n8H0vftehtIETE7oh4vXq8T9LhacYbfe8KffVFE2E/TdLvJzzfpcGa7z0kvWh7q+3hppuZxCmHp9mq7mc33M+R2k7j3U9HTDM+MO9dJ9Ofd6uJsE82Nc0gHf+7OCL+QtLVkn5U7a5ian4haa7G5wDcLennTTZTTTP+pKSbI+KzJnuZaJK++vK+NRH2XZJOn/D8O5LGGuhjUhExVt3vlfQrjX/sGCR7Ds+gW93vbbif/xMReyLiYEQckvSgGnzvqmnGn5T0aEQ8VS1u/L2brK9+vW9NhP01SWfb/q7t4yT9QNKGBvr4GtsnVV+cyPZJkpZq8Kai3iBpVfV4laRnGuzlKwZlGu9W04yr4feu8enPI6LvN0nXaPwb+f+W9PdN9NCirzmS/qu6vdV0b5Ie0/hu3f9ofI/oRkl/KmmjpB3V/awB6u1fNT6195saD9ZQQ70t1vhHwzclvVHdrmn6vSv01Zf3jZ/LAknwCzogCcIOJEHYgSQIO5AEYQeSIOxAEoQdSOJ/AU42SDbDt9HaAAAAAElFTkSuQmCC\n",
      "text/plain": [
       "<Figure size 432x288 with 1 Axes>"
      ]
     },
     "metadata": {
      "needs_background": "light"
     },
     "output_type": "display_data"
    },
    {
     "name": "stderr",
     "output_type": "stream",
     "text": [
      "INFO:root:Printing net with fscore value = 0.7940825840825841\n",
      "INFO:root:Invalid input, printing the image as is\n"
     ]
    },
    {
     "data": {
      "image/png": "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\n",
      "text/plain": [
       "<Figure size 432x288 with 1 Axes>"
      ]
     },
     "metadata": {
      "needs_background": "light"
     },
     "output_type": "display_data"
    },
    {
     "name": "stderr",
     "output_type": "stream",
     "text": [
      "INFO:root:Printing net with fscore value = 0.7940825840825841\n",
      "INFO:root:Invalid input, printing the image as is\n"
     ]
    },
    {
     "data": {
      "image/png": "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\n",
      "text/plain": [
       "<Figure size 432x288 with 1 Axes>"
      ]
     },
     "metadata": {
      "needs_background": "light"
     },
     "output_type": "display_data"
    },
    {
     "name": "stderr",
     "output_type": "stream",
     "text": [
      "INFO:root:Printing net with fscore value = 0.4208610996846291\n",
      "INFO:root:Invalid input, printing the image as is\n"
     ]
    },
    {
     "data": {
      "image/png": "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\n",
      "text/plain": [
       "<Figure size 432x288 with 1 Axes>"
      ]
     },
     "metadata": {
      "needs_background": "light"
     },
     "output_type": "display_data"
    },
    {
     "name": "stderr",
     "output_type": "stream",
     "text": [
      "INFO:root:Printing net with fscore value = 0.4208610996846291\n",
      "INFO:root:Invalid input, printing the image as is\n"
     ]
    },
    {
     "data": {
      "image/png": "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\n",
      "text/plain": [
       "<Figure size 432x288 with 1 Axes>"
      ]
     },
     "metadata": {
      "needs_background": "light"
     },
     "output_type": "display_data"
    },
    {
     "name": "stderr",
     "output_type": "stream",
     "text": [
      "INFO:root:Printing net with fscore value = 0.4208610996846291\n",
      "INFO:root:Invalid input, printing the image as is\n"
     ]
    },
    {
     "data": {
      "image/png": "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\n",
      "text/plain": [
       "<Figure size 432x288 with 1 Axes>"
      ]
     },
     "metadata": {
      "needs_background": "light"
     },
     "output_type": "display_data"
    },
    {
     "name": "stderr",
     "output_type": "stream",
     "text": [
      "INFO:root:Printing net with fscore value = 0.4208610996846291\n",
      "INFO:root:Invalid input, printing the image as is\n"
     ]
    },
    {
     "data": {
      "image/png": "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\n",
      "text/plain": [
       "<Figure size 432x288 with 1 Axes>"
      ]
     },
     "metadata": {
      "needs_background": "light"
     },
     "output_type": "display_data"
    }
   ],
   "source": [
    "for i in range(300):\n",
    "    val = np.argmax(mnist.test.labels[i])\n",
    "    image = mnist.test.images[i]\n",
    "    if val == 6:\n",
    "        break\n",
    "for net_index in range(5):  # print image for 5 networks with best fscores\n",
    "    print(\"*********************************************************************************\")\n",
    "    for layer_num in [1, 2]:\n",
    "        for channel_num in [0]:\n",
    "            for activation in [True, False]:\n",
    "                if net_index <= (len(networks) - 1):\n",
    "                    logging.info(\"Printing net with fscore value = \" + str(networks[net_index].fscore[2]))\n",
    "                    networks[net_index].visualize(image=image, layer_num=layer_num, channel_num=channel_num, before_activation=activation)\n"
   ]
  },
  {
   "cell_type": "code",
   "execution_count": 32,
   "metadata": {},
   "outputs": [],
   "source": [
    "sess.close()\n",
    "# Eden Dupont\n",
    "# Daniel Rolnik"
   ]
  }
 ],
 "metadata": {
  "kernelspec": {
   "display_name": "Python 3",
   "language": "python",
   "name": "python3"
  },
  "language_info": {
   "codemirror_mode": {
    "name": "ipython",
    "version": 3
   },
   "file_extension": ".py",
   "mimetype": "text/x-python",
   "name": "python",
   "nbconvert_exporter": "python",
   "pygments_lexer": "ipython3",
   "version": "3.6.9"
  }
 },
 "nbformat": 4,
 "nbformat_minor": 2
}
